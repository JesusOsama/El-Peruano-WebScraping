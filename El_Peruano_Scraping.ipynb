{
  "nbformat": 4,
  "nbformat_minor": 0,
  "metadata": {
    "colab": {
      "provenance": [],
      "authorship_tag": "ABX9TyN9jS/QfE9r8xKTzc6hzVX5"
    },
    "kernelspec": {
      "name": "python3",
      "display_name": "Python 3"
    },
    "language_info": {
      "name": "python"
    }
  },
  "cells": [
    {
      "cell_type": "code",
      "execution_count": 1,
      "metadata": {
        "id": "j7JskZ-8Mayx"
      },
      "outputs": [],
      "source": [
        "# Hola Mundo\n",
        "# Hola Mundo 2"
      ]
    }
  ]
}