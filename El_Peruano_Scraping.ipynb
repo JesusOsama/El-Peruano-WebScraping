{
  "nbformat": 4,
  "nbformat_minor": 0,
  "metadata": {
    "colab": {
      "provenance": [],
      "authorship_tag": "ABX9TyOm3nlMuuajLXVPSu5l08Fs"
    },
    "kernelspec": {
      "name": "python3",
      "display_name": "Python 3"
    },
    "language_info": {
      "name": "python"
    }
  },
  "cells": [
    {
      "cell_type": "markdown",
      "source": [
        "# Implementación Entorno"
      ],
      "metadata": {
        "id": "h-k5rGnIdBdK"
      }
    },
    {
      "cell_type": "code",
      "execution_count": null,
      "metadata": {
        "id": "j7JskZ-8Mayx"
      },
      "outputs": [],
      "source": [
        "%pip install google-colab-selenium bs4"
      ]
    },
    {
      "cell_type": "code",
      "source": [
        "# Librerías Necesarias\n",
        "import google_colab_selenium as gs\n",
        "from bs4 import BeautifulSoup\n",
        "from selenium.webdriver.common.by import By\n",
        "from selenium.webdriver.support.ui import WebDriverWait\n",
        "from selenium.webdriver.support import expected_conditions as EC\n",
        "import pandas as pd\n",
        "\n",
        "import time"
      ],
      "metadata": {
        "id": "_45cQyE3b7ky"
      },
      "execution_count": 43,
      "outputs": []
    },
    {
      "cell_type": "markdown",
      "source": [
        "# Conexión y Extracción a El Peruano"
      ],
      "metadata": {
        "id": "MVyaGFuSdjHR"
      }
    },
    {
      "cell_type": "code",
      "source": [
        "# Definición de Periodo de Extracción\n",
        "fecha_inicio = \"12/09/2025\"\n",
        "fecha_final = \"12/09/2025\""
      ],
      "metadata": {
        "id": "SzN0EVsmduAj"
      },
      "execution_count": 31,
      "outputs": []
    },
    {
      "cell_type": "code",
      "source": [
        "# Iniciacilización de la Conexión\n",
        "driver = gs.Chrome()\n",
        "driver.get(\"https://diariooficial.elperuano.pe/Normas\")\n",
        "time.sleep(20) # Tiempo Promedio para que cargue la página\n",
        "\n",
        "# Modificación de Periodo de Extracción\n",
        "wait = WebDriverWait(driver, 20)\n",
        "\n",
        "input_desde = wait.until(EC.presence_of_element_located((By.ID, \"cddesde\")))\n",
        "input_hasta = wait.until(EC.presence_of_element_located((By.ID, \"cdhasta\")))\n",
        "\n",
        "driver.execute_script(\"arguments[0].removeAttribute('readonly'); arguments[0].removeAttribute('contenteditable');\", input_desde)\n",
        "driver.execute_script(\"arguments[0].removeAttribute('readonly'); arguments[0].removeAttribute('contenteditable');\", input_hasta)\n",
        "\n",
        "## Limpieza de Input y Colocación del nuevo período\n",
        "input_desde.clear(); input_hasta.clear()\n",
        "input_desde.send_keys(fecha_inicio); input_hasta.send_keys(fecha_final)\n",
        "\n",
        "## Inicia la Búsqueda\n",
        "boton_buscar = wait.until(EC.element_to_be_clickable((By.ID, \"btnBuscar\")))\n",
        "boton_buscar.click()\n",
        "time.sleep(25) # Tiempo Promedio para que cargue la nueva página\n",
        "\n",
        "# Extracción del HTML de la página\n",
        "html = driver.page_source\n",
        "\n",
        "driver.quit()"
      ],
      "metadata": {
        "id": "xetgN7zRdwDc",
        "outputId": "54e6c639-b565-40e6-ab68-c27a4ea3eaa8",
        "colab": {
          "base_uri": "https://localhost:8080/",
          "height": 37
        }
      },
      "execution_count": 39,
      "outputs": [
        {
          "output_type": "display_data",
          "data": {
            "text/plain": [
              "<IPython.core.display.HTML object>"
            ],
            "text/html": [
              "\n",
              "            <div class=\"spinner-container\">\n",
              "                <div class=\"spinner\" id=\"20f5e065-1082-4b46-9f45-00693b66a37e-circle\"></div>\n",
              "                <div class=\"spinner-text\" id=\"20f5e065-1082-4b46-9f45-00693b66a37e-text\">Initializing Chromedriver</div>\n",
              "            </div>\n",
              "            <style>\n",
              "                @keyframes spin {\n",
              "                    from { transform: rotate(0deg); }\n",
              "                    to { transform: rotate(360deg); }\n",
              "                }\n",
              "\n",
              "                .spinner-container {\n",
              "                    display: flex;\n",
              "                    align-items: center;\n",
              "                    margin-bottom: 3px;\n",
              "                }\n",
              "\n",
              "                .spinner {\n",
              "                    border: 3px solid rgba(0, 0, 0, 0.1);\n",
              "                    border-left-color: lightblue;\n",
              "                    border-radius: 50%;\n",
              "                    width: 12px;\n",
              "                    height: 12px;\n",
              "                    animation: spin 1s linear infinite;\n",
              "                }\n",
              "\n",
              "                .spinner-text {\n",
              "                    padding-left: 6px;\n",
              "                }\n",
              "            </style>\n",
              "        "
            ]
          },
          "metadata": {}
        },
        {
          "output_type": "display_data",
          "data": {
            "text/plain": [
              "<IPython.core.display.Javascript object>"
            ],
            "application/javascript": [
              "\n",
              "            const element = document.getElementById(\"20f5e065-1082-4b46-9f45-00693b66a37e-circle\");\n",
              "            element.style.border = \"3px solid limegreen\";\n",
              "            element.style.animation = \"none\";\n",
              "\n",
              "            const text = document.getElementById(\"20f5e065-1082-4b46-9f45-00693b66a37e-text\");\n",
              "            text.innerText = \"Initialized Chromedriver\";\n",
              "        "
            ]
          },
          "metadata": {}
        }
      ]
    },
    {
      "cell_type": "markdown",
      "source": [
        "# Procesamiento de la extracción"
      ],
      "metadata": {
        "id": "okDEwC-tfBkp"
      }
    },
    {
      "cell_type": "code",
      "source": [
        "# Obtención de todos las normas (<article>)\n",
        "soup = BeautifulSoup(html, \"lxml\")\n",
        "articles = soup.find_all(\"article\")\n",
        "\n",
        "print(\"Cantidad de artículos encontrados:\", len(articles))"
      ],
      "metadata": {
        "id": "A6vGUQILhDnA",
        "outputId": "60b49ce4-d05d-4f6c-844f-12c6219256f6",
        "colab": {
          "base_uri": "https://localhost:8080/"
        }
      },
      "execution_count": 40,
      "outputs": [
        {
          "output_type": "stream",
          "name": "stdout",
          "text": [
            "Cantidad de artículos encontrados: 71\n"
          ]
        }
      ]
    },
    {
      "cell_type": "code",
      "source": [
        "# Procesamiento y Extracción de los campos requeridos\n",
        "data = []\n",
        "for articulo in articles:\n",
        "\n",
        "  # Título de la Norma (h4)\n",
        "  h4 = articulo.find(\"h4\").get_text(strip=True)\n",
        "\n",
        "  # Nombre de la Norma (h5)\n",
        "  h5 = articulo.find(\"h5\")\n",
        "  h5_oficial = h5.get_text(strip=True)\n",
        "\n",
        "  # URL de la Norma (h5 a)\n",
        "  a = h5.find(\"a\")[\"href\"]\n",
        "\n",
        "  # Fecha de Publicación de la Norma (p)\n",
        "  fecha = articulo.find(\"p\")\n",
        "  fecha = fecha.find(\"b\").get_text(strip=True)\n",
        "  fecha = fecha.replace(\"Fecha: \", \"\")\n",
        "\n",
        "  # Descripción de la Norma (p)\n",
        "  descripcion = articulo.find_all(\"p\")[-1].get_text(strip=True)\n",
        "\n",
        "  data.append({'titulo': h4, 'Nombre': h5_oficial, 'Enlace': a, 'Fecha': fecha, \"Descripcion\": descripcion})"
      ],
      "metadata": {
        "id": "cW8OIZHn1MqC"
      },
      "execution_count": 46,
      "outputs": []
    },
    {
      "cell_type": "markdown",
      "source": [
        "# Presentación de Resultados"
      ],
      "metadata": {
        "id": "LJlqVr9HhB3Q"
      }
    },
    {
      "cell_type": "code",
      "source": [
        "df = pd.DataFrame(data)\n",
        "df.head()"
      ],
      "metadata": {
        "id": "DSTI5hYH10S0",
        "outputId": "61a873a6-537a-4099-ef5e-af296fad6170",
        "colab": {
          "base_uri": "https://localhost:8080/",
          "height": 293
        }
      },
      "execution_count": 47,
      "outputs": [
        {
          "output_type": "execute_result",
          "data": {
            "text/plain": [
              "                                 titulo  \\\n",
              "0  PRESIDENCIA DEL CONSEJO DE MINISTROS   \n",
              "1                               CULTURA   \n",
              "2                              INTERIOR   \n",
              "3           JUSTICIA Y DERECHOS HUMANOS   \n",
              "4           JUSTICIA Y DERECHOS HUMANOS   \n",
              "\n",
              "                                              Nombre  \\\n",
              "0                RESOLUCION SUPREMA  N° 192-2025-PCM   \n",
              "1  RESOLUCION DIRECTORAL  N° 001738-2025-DE-DDC-C...   \n",
              "2            RESOLUCION MINISTERIAL  N° 1775-2025-IN   \n",
              "3                RESOLUCION SUPREMA  N° 184-2025-JUS   \n",
              "4                RESOLUCION SUPREMA  N° 185-2025-JUS   \n",
              "\n",
              "                                              Enlace       Fecha  \\\n",
              "0  https://busquedas.elperuano.pe/dispositivo/NL/...  12/09/2025   \n",
              "1  https://busquedas.elperuano.pe/dispositivo/NL/...  12/09/2025   \n",
              "2  https://busquedas.elperuano.pe/dispositivo/NL/...  12/09/2025   \n",
              "3  https://busquedas.elperuano.pe/dispositivo/NL/...  12/09/2025   \n",
              "4  https://busquedas.elperuano.pe/dispositivo/NL/...  12/09/2025   \n",
              "\n",
              "                                         Descripcion  \n",
              "0  Autorizan viaje del Ministro de Transportes y ...  \n",
              "1  Aprueban el Manual de Clasificador de Cargos d...  \n",
              "2  Autorizan viaje de personal policial a Italia ...  \n",
              "3  Acceden a solicitud de extradición activa de c...  \n",
              "4  Acceden a solicitud de extradición activa de c...  "
            ],
            "text/html": [
              "\n",
              "  <div id=\"df-445678a6-fb6f-4b76-8f61-b5ebd6a29e5d\" class=\"colab-df-container\">\n",
              "    <div>\n",
              "<style scoped>\n",
              "    .dataframe tbody tr th:only-of-type {\n",
              "        vertical-align: middle;\n",
              "    }\n",
              "\n",
              "    .dataframe tbody tr th {\n",
              "        vertical-align: top;\n",
              "    }\n",
              "\n",
              "    .dataframe thead th {\n",
              "        text-align: right;\n",
              "    }\n",
              "</style>\n",
              "<table border=\"1\" class=\"dataframe\">\n",
              "  <thead>\n",
              "    <tr style=\"text-align: right;\">\n",
              "      <th></th>\n",
              "      <th>titulo</th>\n",
              "      <th>Nombre</th>\n",
              "      <th>Enlace</th>\n",
              "      <th>Fecha</th>\n",
              "      <th>Descripcion</th>\n",
              "    </tr>\n",
              "  </thead>\n",
              "  <tbody>\n",
              "    <tr>\n",
              "      <th>0</th>\n",
              "      <td>PRESIDENCIA DEL CONSEJO DE MINISTROS</td>\n",
              "      <td>RESOLUCION SUPREMA  N° 192-2025-PCM</td>\n",
              "      <td>https://busquedas.elperuano.pe/dispositivo/NL/...</td>\n",
              "      <td>12/09/2025</td>\n",
              "      <td>Autorizan viaje del Ministro de Transportes y ...</td>\n",
              "    </tr>\n",
              "    <tr>\n",
              "      <th>1</th>\n",
              "      <td>CULTURA</td>\n",
              "      <td>RESOLUCION DIRECTORAL  N° 001738-2025-DE-DDC-C...</td>\n",
              "      <td>https://busquedas.elperuano.pe/dispositivo/NL/...</td>\n",
              "      <td>12/09/2025</td>\n",
              "      <td>Aprueban el Manual de Clasificador de Cargos d...</td>\n",
              "    </tr>\n",
              "    <tr>\n",
              "      <th>2</th>\n",
              "      <td>INTERIOR</td>\n",
              "      <td>RESOLUCION MINISTERIAL  N° 1775-2025-IN</td>\n",
              "      <td>https://busquedas.elperuano.pe/dispositivo/NL/...</td>\n",
              "      <td>12/09/2025</td>\n",
              "      <td>Autorizan viaje de personal policial a Italia ...</td>\n",
              "    </tr>\n",
              "    <tr>\n",
              "      <th>3</th>\n",
              "      <td>JUSTICIA Y DERECHOS HUMANOS</td>\n",
              "      <td>RESOLUCION SUPREMA  N° 184-2025-JUS</td>\n",
              "      <td>https://busquedas.elperuano.pe/dispositivo/NL/...</td>\n",
              "      <td>12/09/2025</td>\n",
              "      <td>Acceden a solicitud de extradición activa de c...</td>\n",
              "    </tr>\n",
              "    <tr>\n",
              "      <th>4</th>\n",
              "      <td>JUSTICIA Y DERECHOS HUMANOS</td>\n",
              "      <td>RESOLUCION SUPREMA  N° 185-2025-JUS</td>\n",
              "      <td>https://busquedas.elperuano.pe/dispositivo/NL/...</td>\n",
              "      <td>12/09/2025</td>\n",
              "      <td>Acceden a solicitud de extradición activa de c...</td>\n",
              "    </tr>\n",
              "  </tbody>\n",
              "</table>\n",
              "</div>\n",
              "    <div class=\"colab-df-buttons\">\n",
              "\n",
              "  <div class=\"colab-df-container\">\n",
              "    <button class=\"colab-df-convert\" onclick=\"convertToInteractive('df-445678a6-fb6f-4b76-8f61-b5ebd6a29e5d')\"\n",
              "            title=\"Convert this dataframe to an interactive table.\"\n",
              "            style=\"display:none;\">\n",
              "\n",
              "  <svg xmlns=\"http://www.w3.org/2000/svg\" height=\"24px\" viewBox=\"0 -960 960 960\">\n",
              "    <path d=\"M120-120v-720h720v720H120Zm60-500h600v-160H180v160Zm220 220h160v-160H400v160Zm0 220h160v-160H400v160ZM180-400h160v-160H180v160Zm440 0h160v-160H620v160ZM180-180h160v-160H180v160Zm440 0h160v-160H620v160Z\"/>\n",
              "  </svg>\n",
              "    </button>\n",
              "\n",
              "  <style>\n",
              "    .colab-df-container {\n",
              "      display:flex;\n",
              "      gap: 12px;\n",
              "    }\n",
              "\n",
              "    .colab-df-convert {\n",
              "      background-color: #E8F0FE;\n",
              "      border: none;\n",
              "      border-radius: 50%;\n",
              "      cursor: pointer;\n",
              "      display: none;\n",
              "      fill: #1967D2;\n",
              "      height: 32px;\n",
              "      padding: 0 0 0 0;\n",
              "      width: 32px;\n",
              "    }\n",
              "\n",
              "    .colab-df-convert:hover {\n",
              "      background-color: #E2EBFA;\n",
              "      box-shadow: 0px 1px 2px rgba(60, 64, 67, 0.3), 0px 1px 3px 1px rgba(60, 64, 67, 0.15);\n",
              "      fill: #174EA6;\n",
              "    }\n",
              "\n",
              "    .colab-df-buttons div {\n",
              "      margin-bottom: 4px;\n",
              "    }\n",
              "\n",
              "    [theme=dark] .colab-df-convert {\n",
              "      background-color: #3B4455;\n",
              "      fill: #D2E3FC;\n",
              "    }\n",
              "\n",
              "    [theme=dark] .colab-df-convert:hover {\n",
              "      background-color: #434B5C;\n",
              "      box-shadow: 0px 1px 3px 1px rgba(0, 0, 0, 0.15);\n",
              "      filter: drop-shadow(0px 1px 2px rgba(0, 0, 0, 0.3));\n",
              "      fill: #FFFFFF;\n",
              "    }\n",
              "  </style>\n",
              "\n",
              "    <script>\n",
              "      const buttonEl =\n",
              "        document.querySelector('#df-445678a6-fb6f-4b76-8f61-b5ebd6a29e5d button.colab-df-convert');\n",
              "      buttonEl.style.display =\n",
              "        google.colab.kernel.accessAllowed ? 'block' : 'none';\n",
              "\n",
              "      async function convertToInteractive(key) {\n",
              "        const element = document.querySelector('#df-445678a6-fb6f-4b76-8f61-b5ebd6a29e5d');\n",
              "        const dataTable =\n",
              "          await google.colab.kernel.invokeFunction('convertToInteractive',\n",
              "                                                    [key], {});\n",
              "        if (!dataTable) return;\n",
              "\n",
              "        const docLinkHtml = 'Like what you see? Visit the ' +\n",
              "          '<a target=\"_blank\" href=https://colab.research.google.com/notebooks/data_table.ipynb>data table notebook</a>'\n",
              "          + ' to learn more about interactive tables.';\n",
              "        element.innerHTML = '';\n",
              "        dataTable['output_type'] = 'display_data';\n",
              "        await google.colab.output.renderOutput(dataTable, element);\n",
              "        const docLink = document.createElement('div');\n",
              "        docLink.innerHTML = docLinkHtml;\n",
              "        element.appendChild(docLink);\n",
              "      }\n",
              "    </script>\n",
              "  </div>\n",
              "\n",
              "\n",
              "    <div id=\"df-f1a3bdcf-8d1e-444c-adeb-94b1a96badc5\">\n",
              "      <button class=\"colab-df-quickchart\" onclick=\"quickchart('df-f1a3bdcf-8d1e-444c-adeb-94b1a96badc5')\"\n",
              "                title=\"Suggest charts\"\n",
              "                style=\"display:none;\">\n",
              "\n",
              "<svg xmlns=\"http://www.w3.org/2000/svg\" height=\"24px\"viewBox=\"0 0 24 24\"\n",
              "     width=\"24px\">\n",
              "    <g>\n",
              "        <path d=\"M19 3H5c-1.1 0-2 .9-2 2v14c0 1.1.9 2 2 2h14c1.1 0 2-.9 2-2V5c0-1.1-.9-2-2-2zM9 17H7v-7h2v7zm4 0h-2V7h2v10zm4 0h-2v-4h2v4z\"/>\n",
              "    </g>\n",
              "</svg>\n",
              "      </button>\n",
              "\n",
              "<style>\n",
              "  .colab-df-quickchart {\n",
              "      --bg-color: #E8F0FE;\n",
              "      --fill-color: #1967D2;\n",
              "      --hover-bg-color: #E2EBFA;\n",
              "      --hover-fill-color: #174EA6;\n",
              "      --disabled-fill-color: #AAA;\n",
              "      --disabled-bg-color: #DDD;\n",
              "  }\n",
              "\n",
              "  [theme=dark] .colab-df-quickchart {\n",
              "      --bg-color: #3B4455;\n",
              "      --fill-color: #D2E3FC;\n",
              "      --hover-bg-color: #434B5C;\n",
              "      --hover-fill-color: #FFFFFF;\n",
              "      --disabled-bg-color: #3B4455;\n",
              "      --disabled-fill-color: #666;\n",
              "  }\n",
              "\n",
              "  .colab-df-quickchart {\n",
              "    background-color: var(--bg-color);\n",
              "    border: none;\n",
              "    border-radius: 50%;\n",
              "    cursor: pointer;\n",
              "    display: none;\n",
              "    fill: var(--fill-color);\n",
              "    height: 32px;\n",
              "    padding: 0;\n",
              "    width: 32px;\n",
              "  }\n",
              "\n",
              "  .colab-df-quickchart:hover {\n",
              "    background-color: var(--hover-bg-color);\n",
              "    box-shadow: 0 1px 2px rgba(60, 64, 67, 0.3), 0 1px 3px 1px rgba(60, 64, 67, 0.15);\n",
              "    fill: var(--button-hover-fill-color);\n",
              "  }\n",
              "\n",
              "  .colab-df-quickchart-complete:disabled,\n",
              "  .colab-df-quickchart-complete:disabled:hover {\n",
              "    background-color: var(--disabled-bg-color);\n",
              "    fill: var(--disabled-fill-color);\n",
              "    box-shadow: none;\n",
              "  }\n",
              "\n",
              "  .colab-df-spinner {\n",
              "    border: 2px solid var(--fill-color);\n",
              "    border-color: transparent;\n",
              "    border-bottom-color: var(--fill-color);\n",
              "    animation:\n",
              "      spin 1s steps(1) infinite;\n",
              "  }\n",
              "\n",
              "  @keyframes spin {\n",
              "    0% {\n",
              "      border-color: transparent;\n",
              "      border-bottom-color: var(--fill-color);\n",
              "      border-left-color: var(--fill-color);\n",
              "    }\n",
              "    20% {\n",
              "      border-color: transparent;\n",
              "      border-left-color: var(--fill-color);\n",
              "      border-top-color: var(--fill-color);\n",
              "    }\n",
              "    30% {\n",
              "      border-color: transparent;\n",
              "      border-left-color: var(--fill-color);\n",
              "      border-top-color: var(--fill-color);\n",
              "      border-right-color: var(--fill-color);\n",
              "    }\n",
              "    40% {\n",
              "      border-color: transparent;\n",
              "      border-right-color: var(--fill-color);\n",
              "      border-top-color: var(--fill-color);\n",
              "    }\n",
              "    60% {\n",
              "      border-color: transparent;\n",
              "      border-right-color: var(--fill-color);\n",
              "    }\n",
              "    80% {\n",
              "      border-color: transparent;\n",
              "      border-right-color: var(--fill-color);\n",
              "      border-bottom-color: var(--fill-color);\n",
              "    }\n",
              "    90% {\n",
              "      border-color: transparent;\n",
              "      border-bottom-color: var(--fill-color);\n",
              "    }\n",
              "  }\n",
              "</style>\n",
              "\n",
              "      <script>\n",
              "        async function quickchart(key) {\n",
              "          const quickchartButtonEl =\n",
              "            document.querySelector('#' + key + ' button');\n",
              "          quickchartButtonEl.disabled = true;  // To prevent multiple clicks.\n",
              "          quickchartButtonEl.classList.add('colab-df-spinner');\n",
              "          try {\n",
              "            const charts = await google.colab.kernel.invokeFunction(\n",
              "                'suggestCharts', [key], {});\n",
              "          } catch (error) {\n",
              "            console.error('Error during call to suggestCharts:', error);\n",
              "          }\n",
              "          quickchartButtonEl.classList.remove('colab-df-spinner');\n",
              "          quickchartButtonEl.classList.add('colab-df-quickchart-complete');\n",
              "        }\n",
              "        (() => {\n",
              "          let quickchartButtonEl =\n",
              "            document.querySelector('#df-f1a3bdcf-8d1e-444c-adeb-94b1a96badc5 button');\n",
              "          quickchartButtonEl.style.display =\n",
              "            google.colab.kernel.accessAllowed ? 'block' : 'none';\n",
              "        })();\n",
              "      </script>\n",
              "    </div>\n",
              "\n",
              "    </div>\n",
              "  </div>\n"
            ],
            "application/vnd.google.colaboratory.intrinsic+json": {
              "type": "dataframe",
              "variable_name": "df",
              "summary": "{\n  \"name\": \"df\",\n  \"rows\": 71,\n  \"fields\": [\n    {\n      \"column\": \"titulo\",\n      \"properties\": {\n        \"dtype\": \"category\",\n        \"num_unique_values\": 32,\n        \"samples\": [\n          \"MUNICIPALIDAD DE SAN BORJA\",\n          \"RELACIONES EXTERIORES\",\n          \"AUTORIDAD NACIONAL DE CONTROL DEL PODER JUDICIAL\"\n        ],\n        \"semantic_type\": \"\",\n        \"description\": \"\"\n      }\n    },\n    {\n      \"column\": \"Nombre\",\n      \"properties\": {\n        \"dtype\": \"string\",\n        \"num_unique_values\": 71,\n        \"samples\": [\n          \"RESOLUCION SUPREMA  N\\u00b0 012-2025-MIDIS\",\n          \"RESOLUCION SUPREMA  N\\u00b0 192-2025-PCM\",\n          \"RESOLUCION  N\\u00b0 489-CU-2025\"\n        ],\n        \"semantic_type\": \"\",\n        \"description\": \"\"\n      }\n    },\n    {\n      \"column\": \"Enlace\",\n      \"properties\": {\n        \"dtype\": \"string\",\n        \"num_unique_values\": 71,\n        \"samples\": [\n          \"https://busquedas.elperuano.pe/dispositivo/NL/2437780-1\",\n          \"https://busquedas.elperuano.pe/dispositivo/NL/2438317-1\",\n          \"https://busquedas.elperuano.pe/dispositivo/NL/2437449-1\"\n        ],\n        \"semantic_type\": \"\",\n        \"description\": \"\"\n      }\n    },\n    {\n      \"column\": \"Fecha\",\n      \"properties\": {\n        \"dtype\": \"object\",\n        \"num_unique_values\": 1,\n        \"samples\": [\n          \"12/09/2025\"\n        ],\n        \"semantic_type\": \"\",\n        \"description\": \"\"\n      }\n    },\n    {\n      \"column\": \"Descripcion\",\n      \"properties\": {\n        \"dtype\": \"string\",\n        \"num_unique_values\": 68,\n        \"samples\": [\n          \"Designan Jefa del \\u00d3rgano de Control Institucional de la Defensor\\u00eda del Pueblo\"\n        ],\n        \"semantic_type\": \"\",\n        \"description\": \"\"\n      }\n    }\n  ]\n}"
            }
          },
          "metadata": {},
          "execution_count": 47
        }
      ]
    }
  ]
}