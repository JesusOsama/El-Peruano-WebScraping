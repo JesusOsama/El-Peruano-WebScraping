{
  "nbformat": 4,
  "nbformat_minor": 0,
  "metadata": {
    "colab": {
      "provenance": [],
      "authorship_tag": "ABX9TyPA7OFyrC3oLamX6pG/Fr6J"
    },
    "kernelspec": {
      "name": "python3",
      "display_name": "Python 3"
    },
    "language_info": {
      "name": "python"
    }
  },
  "cells": [
    {
      "cell_type": "code",
      "execution_count": 1,
      "metadata": {
        "id": "j7JskZ-8Mayx"
      },
      "outputs": [],
      "source": [
        "# Hola Mundo"
      ]
    }
  ]
}